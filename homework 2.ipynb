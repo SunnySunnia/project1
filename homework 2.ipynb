{
 "metadata": {
  "name": "homework 2"
 },
 "nbformat": 3,
 "nbformat_minor": 0,
 "worksheets": [
  {
   "cells": [
    {
     "cell_type": "code",
     "collapsed": false,
     "input": [
      "import os.path\n",
      "import ConfigParser\n",
      "import gspread\n",
      "home = os.path.expanduser(\"~\")\n",
      "configfile = os.path.join(home, 'stat157.cfg')\n",
      "config = ConfigParser.SafeConfigParser()\n",
      "config.read(configfile)\n",
      "username = config.get('google', 'username')\n",
      "password = config.get('google', 'password')\n",
      "print username\n",
      "docid = config.get('questionnaire', 'docid')\n",
      "client = gspread.login(username, password)\n",
      "spreadsheet = client.open_by_key(\"0Aj1QXjQixf-SdENDS1FzR1FGNE1kLUk0WGR1SW5peVE\")\n",
      "#In the ~/stat157.cfg file, edit docid, that is where the error is\n",
      "worksheet = spreadsheet.get_worksheet(0)\n",
      "print docid\n",
      "le = \"What is your learning experience\"\n",
      "pe = \"Where did you gain personal experience?\"\n",
      "columns = [le, pe]\n",
      "data_for_HW2 = []\n",
      "for row in worksheet.get_all_records():\n",
      "    data_for_HW2.append({k:v for k,v in row row.iteritems()\n",
      "                        if k in columns})\n",
      "#data_hw2 = worksheet.get_all_records()\n",
      "#data_hw2_1 = worksheet.get_all_values()\n",
      "#hw2_newlist = []\n",
      "#for row in data_hw2_1 :\n",
      "#   hw2_newlist.append(row[1])\n",
      "    \n",
      "#testing_exports = open(\"157_hw2_colimn.txt\",  'w')\n",
      "#testing_exports.write(hw2_newlist[1])\n",
      "#testing_exports.close()"
     ],
     "language": "python",
     "metadata": {},
     "outputs": [
      {
       "output_type": "stream",
       "stream": "stdout",
       "text": [
        "arifyali@berkeley.edu\n",
        "0Aj1QXjQixf-SdEDS1FzR1FGNE1kLUk0WGR1SW5peVE"
       ]
      },
      {
       "output_type": "stream",
       "stream": "stdout",
       "text": [
        "\n"
       ]
      }
     ],
     "prompt_number": 1
    },
    {
     "cell_type": "code",
     "collapsed": false,
     "input": [
      "data_hw2 = worksheet.get_all_records()"
     ],
     "language": "python",
     "metadata": {},
     "outputs": [],
     "prompt_number": 30
    },
    {
     "cell_type": "code",
     "collapsed": false,
     "input": [
      "type(data_hw2)"
     ],
     "language": "python",
     "metadata": {},
     "outputs": [
      {
       "output_type": "pyout",
       "prompt_number": 15,
       "text": [
        "list"
       ]
      }
     ],
     "prompt_number": 15
    },
    {
     "cell_type": "code",
     "collapsed": false,
     "input": [
      "len(data_hw2)"
     ],
     "language": "python",
     "metadata": {},
     "outputs": [
      {
       "output_type": "pyout",
       "prompt_number": 19,
       "text": [
        "48"
       ]
      }
     ],
     "prompt_number": 19
    },
    {
     "cell_type": "code",
     "collapsed": false,
     "input": [
      "data_hw2[47]"
     ],
     "language": "python",
     "metadata": {},
     "outputs": [
      {
       "output_type": "pyout",
       "prompt_number": 29,
       "text": [
        "{'Have you had any personal experience in any of the following topics?': 'working in stat 157',\n",
        " 'Have you taken classes involving any of the following topics?': 'currently taking',\n",
        " u'How often do you take the following roles in group projects? [A producer. This person knows how to get the job done.\\xa0]': 'Not Often',\n",
        " 'How often do you take the following roles in group projects? [An administrator. He or she is able to plan and organize.]': 'Sometimes',\n",
        " 'How often do you take the following roles in group projects? [An entrepreneur. This individual has vision and creative problem-solving abilities.]': 'Not Often',\n",
        " u'How often do you take the following roles in group projects? [An integrator. This person can take an individual goal and transform it into a group goal.\\xa0]': 'Not Often',\n",
        " 'In which of these topics would you feel confident being a technical lead for other students?': 'nothing comfortable yet',\n",
        " 'Timestamp': '10/1/2013 1:16:00',\n",
        " 'What are you going to do after you graduate from Berkeley?': 'Actuarial science or finance industry',\n",
        " 'What computer language(s) do you know?': 'R, I only know R so far',\n",
        " 'What computer language(s) do you recommend to your friends?': '',\n",
        " 'What do you foresee to be the benefits and drawbacks of open, collaborative data science?': 'The benefits of open, collaborative data science would be help and cooperation from a broad and enormous pool of smart and intellectual experts. This helps learning students to get help regardless of time availability of individuals and limitation of resources. This open and collaborative data science also can result greater deal of creativity to the work. Drawbacks that I can think of is that since there are such a flexibility in the participation, wrong information can easily be spread.',\n",
        " 'What features of your text editor(s) of choice could you NOT live without?': '',\n",
        " 'What is your learning style?': \"The VARK Questionnaire Results\\n\\nYour scores were:\\n\\nVisual: 2\\nAural: 6\\nRead/Write: 4\\nKinesthetic: 4\\nYou can find more information about your learning preferences in our downloadable book:\\n\\nHow Do I Learn Best? \\na student's guide to improved learning\\n\\nMore Information...\\n\\nYou have a mild Aural learning preference.\\n\\nUse the following helpsheets for study strategies that apply to your learning preference:\\n\\naural\",\n",
        " 'What is your major (or double major or triple major?!) and your minor?': 'Statistics major',\n",
        " 'What is/are your career goal(s)?': 'Actuary ',\n",
        " 'What text editor(s) do you use for programming?': 'none',\n",
        " 'Where did you gain personal experience?': '',\n",
        " 'Which department and course numbers (e.g. Stat 157)?': 'Stat 157'}"
       ]
      }
     ],
     "prompt_number": 29
    },
    {
     "cell_type": "code",
     "collapsed": false,
     "input": [
      "{'name': 'chris', 'major': 'computer science', 'age' : 3000}['major']"
     ],
     "language": "python",
     "metadata": {},
     "outputs": [
      {
       "output_type": "pyout",
       "prompt_number": 28,
       "text": [
        "'computer science'"
       ]
      }
     ],
     "prompt_number": 28
    },
    {
     "cell_type": "code",
     "collapsed": false,
     "input": [
      "data_hw2_1 = worksheet.get_all_values()"
     ],
     "language": "python",
     "metadata": {},
     "outputs": [],
     "prompt_number": 32
    },
    {
     "cell_type": "code",
     "collapsed": false,
     "input": [
      "type(data_hw2_1)"
     ],
     "language": "python",
     "metadata": {},
     "outputs": [
      {
       "output_type": "pyout",
       "prompt_number": 33,
       "text": [
        "list"
       ]
      }
     ],
     "prompt_number": 33
    },
    {
     "cell_type": "code",
     "collapsed": false,
     "input": [
      "data_hw2_1[1]"
     ],
     "language": "python",
     "metadata": {},
     "outputs": [
      {
       "output_type": "pyout",
       "prompt_number": 34,
       "text": [
        "['9/4/2013 20:48:39',\n",
        " 'asdflkasjdflaskdfj',\n",
        " 'github',\n",
        " '',\n",
        " 'github',\n",
        " 'github',\n",
        " 'adfslj',\n",
        " 'GNU Emacs',\n",
        " 'asdlfkasdf',\n",
        " 'Python',\n",
        " '',\n",
        " '',\n",
        " 'Never',\n",
        " '',\n",
        " '',\n",
        " '',\n",
        " '',\n",
        " '',\n",
        " 'lkajsdf']"
       ]
      }
     ],
     "prompt_number": 34
    },
    {
     "cell_type": "code",
     "collapsed": false,
     "input": [],
     "language": "python",
     "metadata": {},
     "outputs": [
      {
       "output_type": "pyout",
       "prompt_number": 35,
       "text": [
        "['9/4/2013 21:48:39',\n",
        " 'Through collaborative data science, people can gather together different skills, perspectives, and analyses for the purposes of discovering new insights and realizations. Through working together, people on the same team, as well as people around the world can contribute to open-sourced projects and help further knowledge. If people intend to have their work shared with the world, then collaborative data science is key for that to happen. If people would rather keep work to themselves and not have it shared (why would someone do this?), then collaboration is not necessary. However, as with other team-based projects, collaborative data science teams can suffer from slowness and group-think, or the phenomenon of everyone approaching the same issue the same way with no novel insights. However, the rise of the Internet and open source technologies have allowed collaboration across different disciplines which has led to new insights into old methods and practice. ',\n",
        " 'Statistics, LaTeX, XML, Probability, Python',\n",
        " 'Stat 133, 134, 135, CS 61a',\n",
        " 'github, IPython Notebook or Python, LaTeX, XML, Probability, Statistics',\n",
        " 'github, IPython Notebook or Python',\n",
        " 'Class Projects, Work',\n",
        " 'Sublime Text 2, Eclipse, Notepad++',\n",
        " 'Highlighting, Syntax-checking',\n",
        " 'Python, R, Matlab, Java, HTML, XML',\n",
        " 'Python',\n",
        " 'Your scores were:\\n\\nVisual: 3\\nAural: 5\\nRead/Write: 4\\nKinesthetic: 7\\n\\nYou have a mild Kinesthetic learning preference.',\n",
        " 'Sometimes',\n",
        " 'Often',\n",
        " 'Sometimes',\n",
        " 'Always',\n",
        " 'Statistics and Computer Science',\n",
        " 'Hopefully work in industry and then possibly graduate school',\n",
        " 'Data Scientist']"
       ]
      }
     ],
     "prompt_number": 35
    },
    {
     "cell_type": "code",
     "collapsed": false,
     "input": [
      "hw2_newlist = []\n",
      "for row in data_hw2_1 :\n",
      "   hw2_newlist.append(row[1])"
     ],
     "language": "python",
     "metadata": {},
     "outputs": [],
     "prompt_number": 39
    },
    {
     "cell_type": "code",
     "collapsed": false,
     "input": [
      "hw2_newlist"
     ],
     "language": "python",
     "metadata": {},
     "outputs": [
      {
       "output_type": "pyout",
       "prompt_number": 40,
       "text": [
        "['What do you foresee to be the benefits and drawbacks of open, collaborative data science?',\n",
        " 'asdflkasjdflaskdfj',\n",
        " 'Through collaborative data science, people can gather together different skills, perspectives, and analyses for the purposes of discovering new insights and realizations. Through working together, people on the same team, as well as people around the world can contribute to open-sourced projects and help further knowledge. If people intend to have their work shared with the world, then collaborative data science is key for that to happen. If people would rather keep work to themselves and not have it shared (why would someone do this?), then collaboration is not necessary. However, as with other team-based projects, collaborative data science teams can suffer from slowness and group-think, or the phenomenon of everyone approaching the same issue the same way with no novel insights. However, the rise of the Internet and open source technologies have allowed collaboration across different disciplines which has led to new insights into old methods and practice. ',\n",
        " \"Benefits involve the ability to use knowledge that you don't necessarily have while trade knowledge you do have to reach an overall objective.\\n\\nDrawbacks seem to be that skills others might have may not be gainable by ourselves as well as not being able to see the whole path to the end result\",\n",
        " 'I see the benefits are that researchers become more accountable for their research.  Since the data is in the open, data cannot be manipulated for personal gain.  Additionally, since the collaborative mind is greater than a single one, collaborative data science can achieve greater results more efficiently than if research is privately done. \\n\\nA potential drawback can be that some topics are not researched as the incentive of being published is removed.  Perhaps the lack of individual incentive may result in less research being done.\\n\\nOverall, I believe collaborative data science will further scientific research and \"clean up\" science so situations like the Reinart and Rogoff paper are limited.  ',\n",
        " \"The benefit is the creation of new knowledge through the open sharing\\nof resources. The drawback could lie in the collaboration aspect. There\\ncould be problems communicating among people. However I don't fully\\nunderstand what open, collaborative data science is yet.\",\n",
        " '[This is like the 5th time writing this response :(]\\nOne of the greatest benefit of open, collaborative data science is that you can accumulate more data. In most cases, more data produces better results. Through open, collaborative data science, you can find more data, which in turn will produce better results.\\n\\nSecurity is the biggest drawbacks of open, collaborative data science. As more people work on the same data, it becomes less secure. This becomes especially problematic if the data is a sensitive one. ',\n",
        " \"Open, collaborative data science is beneficial because it allows scientists to view each other's data and each other's analysis. This allows better informed critiques of methodology and provides a check that the analysis isn't somehow cheating/faking the data. \\nA drawback would be that open, collaborative data science could betray the trust between researcher and test participants. Additionally, some of the findings could be seen as intellectual property which could be violated by sharing the data.\\n\",\n",
        " 'Benefits\\n1) Easier to identify errors in statistical predictions\\n2) Bigger sample to create solid statistical predictions\\n3) Harder for corporate interests to monopolize scientific inferences\\n',\n",
        " 'From this collaborative data science class, I could get great experience to learn new programming such as Ipython, SQL, and VisualStudio. Also, as statistics major student, I could learn little bit about actual subject related Stats before enter the real world. ',\n",
        " 'Many minds working together produce better results.  Unfortunately, with many minds working and approaching the same goal from different directions, the steps to pull together a positive outcome can be frustrating and confusing to follow.',\n",
        " \"The obvious benefit of collaborative data science is that everyone can learn from each other because we all have different skills and unique ways of thinking about problems. When we encounter a difficulty, we are more likely to solve the problem as a group, than individually. At the same time, since individuals are not all at the same skill level, it is possible that some people may fall behind. Overall, the benefits outweigh the possible negatives and I'm looking forward to learning from my instructors and peers. \",\n",
        " 'Sharing techniques and findings between people is helpful, but working with others is frequently more trouble than its worth, be it through assimilating code, being unable to communicate effectively with others, etc.',\n",
        " 'Benefits will be more convenient and efficient when searching data for experimental studies, however that may have a problem with ensuring privacy. It would be a problem about how \"open\" should some data be when the data involving private information of individuals.',\n",
        " 'Benefits\\n- learn about how to clean the data\\n- learn about how I could use statistical knowledge for analyzing data\\n- learn about various computer coding skills to perform data analysis\\n- learn about various programming language that might be better than just using R\\n- personally, I hope we could do the earthquake prediction. It sounds so cool. \\n\\nDrawbacks\\n- group project always make free-riders (the one who did not put any contribution but gain a grade) \\n- as we are learning programming language, it might cause typical learning process : spent huge time on debugging ',\n",
        " 'I forsee the benefits of collaborative data science to be the opportunity to learn from your peers in an effective manner. Often times there are instances in which you simply gain more by bouncing ideas off other people. Collaborative data science allows us to do just that.\\n\\nOn the other hand, I can see gridlock to be a potential drawback of such collaboration. Because everyone has different preferences and styles, creating an open structure may create several unintended roadblocks, which may delay the final intended product. ',\n",
        " 'The benefits to open, collaborative data science are quick improvements, easy access, and innovation.  With anyone allowed to work on the data, edits can be made spontaneously and do not rely only on the knowledge of one person.  Easy access means that new data can spread quickly, and people from all over the world can use data sets instantly.  Innovation equals the rapid growth and change of any ideas put into the world of data science.  Drawbacks could be the plagiarism or lack of ownership of an idea.  With everyone contributing, it becomes hard to differentiate whose idea it was and where the credit goes.',\n",
        " 'I think the benefits include that it facilitate sharing knowledge and ideas and building close connection, but there are concerns about privacy and data security. ',\n",
        " \"I think it can expand the range of knowledge, and save the time to build up more creative things. For the collaborate part, I think if you don't understand the work other people did, you can not build up things from their work.\",\n",
        " 'Benefits: 1. reusable and beneficial for the whole system 2. transparency, accountability and trust 3. collaborative work and efficiency\\n\\nDrawbacks: 1. Privacy concerns 2. legal and policy concerns ',\n",
        " 'A benefit would be having the world collaborate more freely and really advance a lot of things in our world (i.e. health advancements, etc.). However, a drawback would be the \"stealing\" (not really, since it\\'s up to you to share it) of information that could potentially be beneficial (more on the financial aspect) in the long run.',\n",
        " \"The benefits:\\n1. Easy access to information and answers to 'roadblocks'\\n2. Quicker results through collaboration\\n3. Enhance compatibility and standardization of programs through discussion\\n4. Promote new discoveries/innovation and improve efficiency of code/processes through collaboration\\n\\nThe drawbacks:\\n1. Personal privacy issues\\n2. Intellectual property issues\\n3. 'Trolling' and false information/credibility issues\",\n",
        " \"Open data science is incredibly important for teaching DS newcomers; I interned on a data science team where everyone wrote up reports of their findings and included graphs/charts, but there was no way to check their results, look at their scripts, etc.  So I didn't learn as much as I could have if I'd had access to the process as well as the results.  And that was my own team! So I can only imagine the difficulty of sharing knowledge across organizations.  This ultimate goal--sharing knowledge/research so others can build on it--is the main benefit I foresee.  I don't immediately foresee any drawbacks other than potentially what has been mentioned in class about people not behaving nicely on the internet.\",\n",
        " 'Benefits: Collaborative. Yes, the fact that research papers, code, wiki, can all be edited and contributed by more than one person is a huge benefit. \\n\\nReproducible. Yet another word in our class\\'s title. It makes it possible and much easier for the next person who takes the job, or simply anyone interested in producing the same project to simply execute a few commands from those who have test-driven the project from day one. Reproducible \"dotfiles\" repository are everywhere on Github today, meaning that people can simply clone their own settings and start off on a brand new machine with the same configurations.\\n\\nDrawbacks: Anything that is \"opened\" can potentially be bad. Take MOOC for example. The quality of instruction is great, but how are they going to grade all of the assignments, especially written ones? TAs grading don\\'t scale well to thousands, if not millions. Peer grading, which is initiated by Coursera, seems mind-numbingly terrible because not everyone knows how to grade. Not to mention the quality of the discussion forum...',\n",
        " 'I would think that sometimes we will be working on something for so long that we might not notice an error or too mentally tired to think of a solution. It would be cool to get an outside perspective on our work. I could also see this being a drawback because people could steal our work or possibly just erase it.',\n",
        " \"The benefit is that with more people working together in an open, welcoming way, there is more potential for minds to work together to create something that no single, closed mind could have done alone. This opens up the potential of the human races ability to push itself forward and constantly innovate at a pace un-achievable before.\\n\\nThe downside is that open communities have the capacity to give more power to people who don't necessarily have accurate results or well performed processes, and thus you run the risk of giving too much credit where it's not due. Collaboration also has the ability to turn sour, and communities to become negative or to die. This can partially be maintained by proper mediation and observation of academic accuracy though.\",\n",
        " 'The benefit of collaborative data science is that the scope of a project can be broken down into simpler parts that can be worked on by many people so that complex problems can be solved in parallel quickly. In addition, the knowledge that each person has in working collaboratively is not limited to their own, but that of the entire group. Some drawbacks come from the nature of collaboration, which requires significant cooperation and if a project is broken down such that individual parts depend on each other, can fail if there are weak links in the group.',\n",
        " \"Data science itself is a new concept that I'm looking to delve deeply into in this class. In recent years, the topic of Big Data has been a term that has floated around and widely used, but it's difficult nonetheless to perfectly pinpoint what that actually means. To me, data science is a synthesis of a variety of topics, and draws from aspects of various academic fields. What comes to mind would be statistics, computer science, mathematics, and all drawing from the real world and technology universe. \\n\\nHaving been in the class for a week, and hearing the introduction from Professor Stark as well, data science as well incorporates the scientific world, and has ties to academic and publications and research, in addition to it being a profession in industry. Data science, also from a perspective of someone looking internships and work experience, relates to analytics and analysis - the analysis of data and data sets. \\n\\nThe notion of open, collaborative data science takes this one step further, and is an even newer concept. Based on what I know and my understanding of the course and teamwork, I foresee the benefits of open, collaborative data science to be it being the foundation and platform and environment in which participants (who could be students, professors, the outside community, researchers, academics, professionals) engage in a dynamic discussion together. Open, collaborative data science would be a forum allowing the sharing of knowledge, and for ideas to be built upon each other and expanded. I think within our class, the students come from such a diverse range of experiences, and that notion of teamwork in the article, is really beneficial to progress in this field of data science. \\n\\nI think the term project of publishing a paper on earthquake prediction is extremely ambitious as commented on the first day of class, but I think it'll teach us a lot about open, collaborative data science. I'm very interested in learning about the tools and resources that'll help us learn about data science, and look forward to better applying these skills towards real-life data sets and problems. Already the class is problem-solving all the time, and that must be what data science and open, collaborative data science is about!\",\n",
        " 'Benefits:\\n-Can have an open environment to allow people from all over the world to interact with each other. \\n-Collaborative work will become much more easier, especially when data is massive.\\n\\nDrawbacks:\\n-we may worry about the security of open source data transaction. Ensuring the security is an important aspect in collaboration.\\n- We also need to ensure the data accuracy, to make sure the data are transacted accurately.\\n',\n",
        " 'I think that collaborative data science is beneficial because it allows scientists to build on top of other data instead of having to retrace steps.  I think a drawback would be that without checking the collection of data, it could become less accurate and that there are still different ways to interpret the same data.',\n",
        " 'It will allow scientists to build on top of other scientists. However, if the original scientist had bugs in his code, they might not be discovered before enough people have used it.',\n",
        " 'There are three major benefits to open data science and these benefits can be distilled into 3 words: scale, innovation, and transparency. Firstly, with open data science all aspects of its process from data gathering to analysis become available for the worlds best and brightest to contribute to. An easy example of this is the Netflix Prize Netflix created to optimize their recommendation algorithm which beat the Netflix data scientists by over 10%. Secondly with open data science and open source projects more broadly we (as a humanity), in my opinion, maximize our chances for innovation in all fields and industries. If epiphany occurs once every billion \"attempts\", why allow for the billions to try? Thirdly and most importantly open data science is the greatest deterrent to misleading papers and overall faulty research. It forces transparency at the highest level. There are also several drawbacks to open data science. Firstly open data science creates obvious privacy issues and plagiaristic potentiality. It could very well be that the very fact that people need to be credited for their achievements either through fame or money that open data science never realizes its true potential. Secondly I also do believe that in terms of collaboration being good, there is such a thing as too much of a good thing. Conceptually if collaboration and successful projects were put on the x and y axis respectfully I see it as an inverse parabola, where too much collaboration leads to inefficiencies, confusion, and ultimately less successful projects.',\n",
        " \"Still don't have an idea about where we are going. \",\n",
        " 'Benefits - faster data distribution; can more easily try to reproduce results if the data is available\\n\\nDrawbacks - science is very competitive, and people may be unwilling to share their experiment ideas and results with a community notorious for stealing and taking the credit of others',\n",
        " 'Benefits: Being able to utilize the online community as a valued resource and sharing reproducible procedures that makes everything more streamlined.\\n\\nDrawbacks: Exposure to those who intend to cause damage through \"trolling\" and hacking. Theft of original ideas.',\n",
        " \"This topic is very new to me. \\nI expect to run into many roadblocks since I do not have as much understanding in recent programming. I like how the class forms small groups to do collaborative work and look forward to learn more after the whole setups are complete. (I'm still struggling with my computer)\",\n",
        " '.',\n",
        " 'pros:\\nFaster, more ideas\\n\\ncons:\\n',\n",
        " 'benefits:\\nPeople can share their data, which will make the data set much bigger and reliable. It will be much easier for people to work together on the same project remotely. People can share their ideas and work on different parts at the same time. Due to the above reasons, collaborative data science will help researches to progress faster.\\ndrawbacks:\\nIf everything is public, people can steal the data or the partial results without crediting the original author. Also, since a lot of people can contribute to the same project, Version control is a big issue. Data loss or system break-down will cause more serious issues.',\n",
        " 'Benefits: easy access to information, provide to channel to solve possible issues one may have, serve as a platform for people who share common interest\\n\\nDrawbacks: easy target for abuse, questionable creditability for the provided information',\n",
        " \"Benefits: ease of collaboration, transparency, minimization of errors\\n\\nDrawbacks: Can't make as much money!\",\n",
        " 'As of now the open aspect of this class has made it very vague. Instructions, directions, and the stuff we have been doing are quite vague. The collaborative part is where I see the benefits from. For one if someone falls behind others can easily help that person get back up to speed. Also learning in an environment where some people are weaker and some people are stronger definitely helps. For this class its easy to see that not everyone starts off at the same level of knowledge. IE some people are familiar with Python, while others',\n",
        " 'Benefits include being able to work as a team towards a single goal. As long as all the steps are reproduceable then future academics can also see if your method was valid or if your findings are not. Drawbacks to this are that there is a large initial investment. Everyone needs to be on the same page, set up with the same tools. This has its problems and takes a long time.',\n",
        " 'too detailed. variation is good i guess? ',\n",
        " 'I think the benefits include that it facilitate sharing knowledge and ideas and building close connection, but there are concerns about privacy and data security. ',\n",
        " 'Collaborative data science can foster cooperation between groups of people that would allow a project to be completed more efficiently than it would be done in pieces, however, its efficacy depends on everyone doing their part, and a weak link in the group can stifle progress in the project.',\n",
        " 'The benefits are that people can have better share information with one another and can therefore better learn from each other. A drawback can be that the value attached with originating a particular idea is decreased. This can in turn decrease profits. ',\n",
        " 'benefits: easy to apply model on different settings\\ndrawbacks: hard to define',\n",
        " 'The benefits of open, collaborative data science would be help and cooperation from a broad and enormous pool of smart and intellectual experts. This helps learning students to get help regardless of time availability of individuals and limitation of resources. This open and collaborative data science also can result greater deal of creativity to the work. Drawbacks that I can think of is that since there are such a flexibility in the participation, wrong information can easily be spread.']"
       ]
      }
     ],
     "prompt_number": 40
    },
    {
     "cell_type": "code",
     "collapsed": false,
     "input": [
      "testing_exports = open(\"157_hw2_colimn.txt\",  'w')"
     ],
     "language": "python",
     "metadata": {},
     "outputs": [],
     "prompt_number": 48
    },
    {
     "cell_type": "code",
     "collapsed": false,
     "input": [
      "testing_exports.write(hw2_newlist[1])"
     ],
     "language": "python",
     "metadata": {},
     "outputs": [],
     "prompt_number": 51
    },
    {
     "cell_type": "code",
     "collapsed": false,
     "input": [
      "testing_exports.close()"
     ],
     "language": "python",
     "metadata": {},
     "outputs": [],
     "prompt_number": 52
    }
   ],
   "metadata": {}
  }
 ]
}