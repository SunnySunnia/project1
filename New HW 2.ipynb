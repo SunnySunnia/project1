{
 "metadata": {
  "name": "New HW 2"
 },
 "nbformat": 3,
 "nbformat_minor": 0,
 "worksheets": [
  {
   "cells": [
    {
     "cell_type": "code",
     "collapsed": false,
     "input": [
      "import os.path\n",
      "import ConfigParser\n",
      "import gspread\n",
      "home = os.path.expanduser(\"~\")"
     ],
     "language": "python",
     "metadata": {},
     "outputs": [],
     "prompt_number": 11
    },
    {
     "cell_type": "code",
     "collapsed": false,
     "input": [
      "configfile = os.path.join(home, 'stat157.cfg')\n",
      "config = ConfigParser.SafeConfigParser()\n",
      "config.read(configfile)\n",
      "username = config.get('google', 'username')\n",
      "password = config.get('google', 'password')\n",
      "print username\n",
      "docid = config.get('questionnaire', 'docid')\n",
      "client = gspread.login(username, password)\n",
      "spreadsheet = client.open_by_key(\"0Aj1QXjQixf-SdENDS1FzR1FGNE1kLUk0WGR1SW5peVE\")\n",
      "#In the ~/project1/stat157.cfg file, edit docid, that is where the error is\n",
      "worksheet = spreadsheet.get_worksheet(0)\n",
      "print docid\n"
     ],
     "language": "python",
     "metadata": {},
     "outputs": [
      {
       "output_type": "stream",
       "stream": "stdout",
       "text": [
        "arifyali@berkeley.edu\n",
        "0Aj1QXjQixf-SdEDS1FzR1FGNE1kLUk0WGR1SW5peVE"
       ]
      },
      {
       "output_type": "stream",
       "stream": "stdout",
       "text": [
        "\n"
       ]
      }
     ],
     "prompt_number": 12
    },
    {
     "cell_type": "code",
     "collapsed": false,
     "input": [
      "le = \"What is your learning style?\"\n",
      "pe = \"Where did you gain personal experience?\"\n",
      "columns = [le, pe]\n",
      "data_for_HW2 = []\n",
      "for row in worksheet.get_all_records():\n",
      "    data_for_HW2.append({k:v for k,v in row.iteritems()\n",
      "                        if k in columns})\n",
      "#print data_for_HW2\n",
      "#data_hw2 = worksheet.get_all_records()\n",
      "#data_hw2_1 = worksheet.get_all_values()\n",
      "#hw2_newlist = []\n",
      "#for row in data_hw2_1 :\n",
      "#   hw2_newlist.append(row[1])\n",
      "    \n",
      "#testing_exports = open(\"157_hw2_colimn.txt\",  'w')\n",
      "#testing_exports.write(hw2_newlist[1])\n",
      "#testing_exports.close()"
     ],
     "language": "python",
     "metadata": {},
     "outputs": [],
     "prompt_number": 16
    },
    {
     "cell_type": "code",
     "collapsed": false,
     "input": [
      "HW2 = []\n",
      "with open(\"project1/HW2_Learning.txt\", \"w\") as f, open(\"project1/HW2_personal.txt\", \"w\") as f2:\n",
      "    for row in data_for_HW2:\n",
      "        LE = row[le]\n",
      "        #print LE\n",
      "        PE = row[pe]\n",
      "        f.write(LE.encode(\"utf-8\"))\n",
      "        f2.write(PE.encode(\"utf-8\"))"
     ],
     "language": "python",
     "metadata": {},
     "outputs": [],
     "prompt_number": 27
    },
    {
     "cell_type": "code",
     "collapsed": false,
     "input": [],
     "language": "python",
     "metadata": {},
     "outputs": []
    }
   ],
   "metadata": {}
  }
 ]
}